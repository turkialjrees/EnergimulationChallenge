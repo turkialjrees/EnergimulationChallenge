{
 "cells": [
  {
   "cell_type": "markdown",
   "metadata": {},
   "source": [
    "# Challenge 1 - Energy Production Data Simulation\n",
    "\n",
    "\n"
   ]
  },
  {
   "cell_type": "code",
   "execution_count": 169,
   "metadata": {
    "scrolled": true
   },
   "outputs": [],
   "source": [
    "# -*- coding:utf-8 -*-\n",
    "import csv\n",
    "import numpy as np\n",
    "from numpy import set_printoptions\n",
    "import pandas as pd\n",
    "from pandas import read_csv\n",
    "import seaborn as sns\n",
    "import itertools\n",
    "import matplotlib.gridspec as gridspec\n",
    "\n",
    "import statsmodels.tsa.stattools as st\n",
    "import matplotlib.pyplot as plt\n",
    "import statsmodels.tsa.vector_ar as var\n",
    "import statsmodels.tsa.api\n",
    "import seaborn as sns\n",
    "\n",
    "from sklearn import datasets\n",
    "from sklearn import linear_model\n",
    "from sklearn.model_selection import train_test_split \n",
    "from sklearn.svm import SVC\n",
    "from sklearn.neighbors import KNeighborsClassifier \n",
    "from sklearn.ensemble import RandomForestClassifier\n",
    "from sklearn.tree import DecisionTreeClassifier\n",
    "from sklearn.linear_model import LogisticRegression\n",
    "from sklearn.ensemble import BaggingClassifier\n",
    "from sklearn.model_selection import cross_val_score, train_test_split\n",
    "from sklearn.model_selection import train_test_split \n",
    "\n",
    "from mlxtend.plotting import plot_learning_curves\n",
    "from mlxtend.plotting import plot_decision_regions\n",
    "\n",
    "\n",
    "np.random.seed(0)\n",
    "\n",
    "\n",
    "%matplotlib inline"
   ]
  },
  {
   "cell_type": "markdown",
   "metadata": {},
   "source": [
    "# Data Exploration and investigate ."
   ]
  },
  {
   "cell_type": "markdown",
   "metadata": {},
   "source": [
    "Using **shape** we investigate  data. how many **attributes** and how many **observations** there are in our data set."
   ]
  },
  {
   "cell_type": "code",
   "execution_count": 106,
   "metadata": {
    "scrolled": true
   },
   "outputs": [
    {
     "data": {
      "text/html": [
       "<div>\n",
       "<style scoped>\n",
       "    .dataframe tbody tr th:only-of-type {\n",
       "        vertical-align: middle;\n",
       "    }\n",
       "\n",
       "    .dataframe tbody tr th {\n",
       "        vertical-align: top;\n",
       "    }\n",
       "\n",
       "    .dataframe thead th {\n",
       "        text-align: right;\n",
       "    }\n",
       "</style>\n",
       "<table border=\"1\" class=\"dataframe\">\n",
       "  <thead>\n",
       "    <tr style=\"text-align: right;\">\n",
       "      <th></th>\n",
       "      <th>ID</th>\n",
       "      <th>Label</th>\n",
       "      <th>House</th>\n",
       "      <th>Year</th>\n",
       "      <th>Month</th>\n",
       "      <th>Temperature</th>\n",
       "      <th>Daylight</th>\n",
       "      <th>EnergyProduction</th>\n",
       "    </tr>\n",
       "  </thead>\n",
       "  <tbody>\n",
       "    <tr>\n",
       "      <th>11995</th>\n",
       "      <td>11995</td>\n",
       "      <td>19</td>\n",
       "      <td>500</td>\n",
       "      <td>2013</td>\n",
       "      <td>2</td>\n",
       "      <td>4.2</td>\n",
       "      <td>201.8</td>\n",
       "      <td>638</td>\n",
       "    </tr>\n",
       "    <tr>\n",
       "      <th>11996</th>\n",
       "      <td>11996</td>\n",
       "      <td>20</td>\n",
       "      <td>500</td>\n",
       "      <td>2013</td>\n",
       "      <td>3</td>\n",
       "      <td>11.2</td>\n",
       "      <td>234.0</td>\n",
       "      <td>778</td>\n",
       "    </tr>\n",
       "    <tr>\n",
       "      <th>11997</th>\n",
       "      <td>11997</td>\n",
       "      <td>21</td>\n",
       "      <td>500</td>\n",
       "      <td>2013</td>\n",
       "      <td>4</td>\n",
       "      <td>13.6</td>\n",
       "      <td>237.1</td>\n",
       "      <td>758</td>\n",
       "    </tr>\n",
       "    <tr>\n",
       "      <th>11998</th>\n",
       "      <td>11998</td>\n",
       "      <td>22</td>\n",
       "      <td>500</td>\n",
       "      <td>2013</td>\n",
       "      <td>5</td>\n",
       "      <td>19.2</td>\n",
       "      <td>258.4</td>\n",
       "      <td>838</td>\n",
       "    </tr>\n",
       "    <tr>\n",
       "      <th>11999</th>\n",
       "      <td>11999</td>\n",
       "      <td>23</td>\n",
       "      <td>500</td>\n",
       "      <td>2013</td>\n",
       "      <td>6</td>\n",
       "      <td>22.7</td>\n",
       "      <td>122.9</td>\n",
       "      <td>586</td>\n",
       "    </tr>\n",
       "  </tbody>\n",
       "</table>\n",
       "</div>"
      ],
      "text/plain": [
       "          ID  Label  House  Year  Month  Temperature  Daylight  \\\n",
       "11995  11995     19    500  2013      2          4.2     201.8   \n",
       "11996  11996     20    500  2013      3         11.2     234.0   \n",
       "11997  11997     21    500  2013      4         13.6     237.1   \n",
       "11998  11998     22    500  2013      5         19.2     258.4   \n",
       "11999  11999     23    500  2013      6         22.7     122.9   \n",
       "\n",
       "       EnergyProduction  \n",
       "11995               638  \n",
       "11996               778  \n",
       "11997               758  \n",
       "11998               838  \n",
       "11999               586  "
      ]
     },
     "execution_count": 106,
     "metadata": {},
     "output_type": "execute_result"
    }
   ],
   "source": [
    "df1.tail(5)"
   ]
  },
  {
   "cell_type": "markdown",
   "metadata": {},
   "source": [
    "The most interesting values was \n",
    "\n",
    "the **Year** variabele, i find out the **2012** has ``6000`` record been counted where **2011, and 2013** only has `3000` record each , as figure bellow  :\n",
    "\n",
    "\n"
   ]
  },
  {
   "cell_type": "code",
   "execution_count": 66,
   "metadata": {
    "scrolled": true
   },
   "outputs": [
    {
     "data": {
      "text/plain": [
       "2012    6000\n",
       "2013    3000\n",
       "2011    3000\n",
       "Name: Year, dtype: int64"
      ]
     },
     "execution_count": 66,
     "metadata": {},
     "output_type": "execute_result"
    }
   ],
   "source": [
    "dataframe1['Year'].value_counts()"
   ]
  },
  {
   "cell_type": "markdown",
   "metadata": {},
   "source": [
    "## Finding number of unique Data Points"
   ]
  },
  {
   "cell_type": "code",
   "execution_count": 188,
   "metadata": {
    "scrolled": true
   },
   "outputs": [
    {
     "name": "stdout",
     "output_type": "stream",
     "text": [
      "Finding number of unique Data Points\n",
      "\n",
      "ID =  12000\n",
      "Label =  24\n",
      "House =  500\n",
      "Year =  3\n",
      "Month =  12\n",
      "Temperature =  207\n",
      "Daylight =  490\n",
      "EnergyProduction =  387\n"
     ]
    }
   ],
   "source": [
    "print(\"Finding number of unique Data Points\")\n",
    "print()\n",
    "print(\"ID = \", len(dataframe1.ID.unique()))\n",
    "print(\"Label = \", len(dataframe1.Label.unique()))\n",
    "print(\"House = \", len(dataframe1.House.unique()))\n",
    "print(\"Year = \", len(dataframe1.Year.unique()))\n",
    "print(\"Month = \", len(dataframe1.Month.unique()))\n",
    "print(\"Temperature = \", len(dataframe1.Temperature.unique()))\n",
    "print(\"Daylight = \", len(dataframe1.Daylight.unique()))\n",
    "print(\"EnergyProduction = \", len(dataframe1.EnergyProduction.unique()))"
   ]
  },
  {
   "cell_type": "markdown",
   "metadata": {},
   "source": [
    "Plot pairwise relationships in a dataset."
   ]
  },
  {
   "cell_type": "code",
   "execution_count": 150,
   "metadata": {
    "scrolled": false
   },
   "outputs": [
    {
     "data": {
      "text/plain": [
       "<seaborn.axisgrid.PairGrid at 0x24b12ea8f60>"
      ]
     },
     "execution_count": 150,
     "metadata": {},
     "output_type": "execute_result"
    },
    {
     "data": {
      "image/png": "[encoded data removed]",
      "text/plain": [
       "<Figure size 540x540 with 12 Axes>"
      ]
     },
     "metadata": {
      "needs_background": "light"
     },
     "output_type": "display_data"
    }
   ],
   "source": [
    "sns.pairplot(dataframe1[['EnergyProduction','Daylight','Temperature']])"
   ]
  },
  {
   "cell_type": "markdown",
   "metadata": {},
   "source": [
    "## The relationship, between random variables on data\n",
    "\n",
    "The **relationship**,  between random variables on data"
   ]
  },
  {
   "cell_type": "code",
   "execution_count": 52,
   "metadata": {
    "scrolled": false
   },
   "outputs": [
    {
     "data": {
      "image/png": "[encoded data removed]",
      "text/plain": [
       "<Figure size 648x648 with 2 Axes>"
      ]
     },
     "metadata": {
      "needs_background": "light"
     },
     "output_type": "display_data"
    }
   ],
   "source": [
    "#correlation map\n",
    "f,ax = plt.subplots(figsize=(9,9))\n",
    "sns.heatmap(dataframe1.corr(), annot=True, linewidths=.5, fmt= '.1f',ax=ax)\n",
    "plt.show()"
   ]
  },
  {
   "cell_type": "markdown",
   "metadata": {},
   "source": [
    "### The relationship, between random variables on data using  color map from linear mapping segments"
   ]
  },
  {
   "cell_type": "code",
   "execution_count": 191,
   "metadata": {},
   "outputs": [
    {
     "data": {
      "text/html": [
       "<style  type=\"text/css\" >\n",
       "    #T_c189a4f8_d83e_11e9_8cfa_acd1b8d26da2 th {\n",
       "          font-size: 9pt;\n",
       "    }    #T_c189a4f8_d83e_11e9_8cfa_acd1b8d26da2 td {\n",
       "          padding: 0em 0em;\n",
       "    }    #T_c189a4f8_d83e_11e9_8cfa_acd1b8d26da2 th:hover {\n",
       "          font-size: 12pt;\n",
       "    }    #T_c189a4f8_d83e_11e9_8cfa_acd1b8d26da2 tr:hover td:hover {\n",
       "          max-width: 300px;\n",
       "          font-size: 12pt;\n",
       "    }    #T_c189a4f8_d83e_11e9_8cfa_acd1b8d26da2row0_col0 {\n",
       "            background-color:  #4479bb;\n",
       "            color:  #000000;\n",
       "            max-width:  90px;\n",
       "            font-size:  10pt;\n",
       "        }    #T_c189a4f8_d83e_11e9_8cfa_acd1b8d26da2row0_col1 {\n",
       "            background-color:  #da3d49;\n",
       "            color:  #f1f1f1;\n",
       "            max-width:  90px;\n",
       "            font-size:  10pt;\n",
       "        }    #T_c189a4f8_d83e_11e9_8cfa_acd1b8d26da2row0_col2 {\n",
       "            background-color:  #4479bb;\n",
       "            color:  #000000;\n",
       "            max-width:  90px;\n",
       "            font-size:  10pt;\n",
       "        }    #T_c189a4f8_d83e_11e9_8cfa_acd1b8d26da2row0_col3 {\n",
       "            background-color:  #da3d49;\n",
       "            color:  #f1f1f1;\n",
       "            max-width:  90px;\n",
       "            font-size:  10pt;\n",
       "        }    #T_c189a4f8_d83e_11e9_8cfa_acd1b8d26da2row0_col4 {\n",
       "            background-color:  #da3c48;\n",
       "            color:  #f1f1f1;\n",
       "            max-width:  90px;\n",
       "            font-size:  10pt;\n",
       "        }    #T_c189a4f8_d83e_11e9_8cfa_acd1b8d26da2row0_col5 {\n",
       "            background-color:  #da3c48;\n",
       "            color:  #f1f1f1;\n",
       "            max-width:  90px;\n",
       "            font-size:  10pt;\n",
       "        }    #T_c189a4f8_d83e_11e9_8cfa_acd1b8d26da2row0_col6 {\n",
       "            background-color:  #da3d49;\n",
       "            color:  #f1f1f1;\n",
       "            max-width:  90px;\n",
       "            font-size:  10pt;\n",
       "        }    #T_c189a4f8_d83e_11e9_8cfa_acd1b8d26da2row0_col7 {\n",
       "            background-color:  #da3b46;\n",
       "            color:  #f1f1f1;\n",
       "            max-width:  90px;\n",
       "            font-size:  10pt;\n",
       "        }    #T_c189a4f8_d83e_11e9_8cfa_acd1b8d26da2row1_col0 {\n",
       "            background-color:  #e8858d;\n",
       "            color:  #000000;\n",
       "            max-width:  90px;\n",
       "            font-size:  10pt;\n",
       "        }    #T_c189a4f8_d83e_11e9_8cfa_acd1b8d26da2row1_col1 {\n",
       "            background-color:  #4479bb;\n",
       "            color:  #000000;\n",
       "            max-width:  90px;\n",
       "            font-size:  10pt;\n",
       "        }    #T_c189a4f8_d83e_11e9_8cfa_acd1b8d26da2row1_col2 {\n",
       "            background-color:  #e8848b;\n",
       "            color:  #000000;\n",
       "            max-width:  90px;\n",
       "            font-size:  10pt;\n",
       "        }    #T_c189a4f8_d83e_11e9_8cfa_acd1b8d26da2row1_col3 {\n",
       "            background-color:  #5a88c3;\n",
       "            color:  #000000;\n",
       "            max-width:  90px;\n",
       "            font-size:  10pt;\n",
       "        }    #T_c189a4f8_d83e_11e9_8cfa_acd1b8d26da2row1_col4 {\n",
       "            background-color:  #da3b46;\n",
       "            color:  #f1f1f1;\n",
       "            max-width:  90px;\n",
       "            font-size:  10pt;\n",
       "        }    #T_c189a4f8_d83e_11e9_8cfa_acd1b8d26da2row1_col5 {\n",
       "            background-color:  #de505a;\n",
       "            color:  #000000;\n",
       "            max-width:  90px;\n",
       "            font-size:  10pt;\n",
       "        }    #T_c189a4f8_d83e_11e9_8cfa_acd1b8d26da2row1_col6 {\n",
       "            background-color:  #f8dcde;\n",
       "            color:  #000000;\n",
       "            max-width:  90px;\n",
       "            font-size:  10pt;\n",
       "        }    #T_c189a4f8_d83e_11e9_8cfa_acd1b8d26da2row1_col7 {\n",
       "            background-color:  #f2babe;\n",
       "            color:  #000000;\n",
       "            max-width:  90px;\n",
       "            font-size:  10pt;\n",
       "        }    #T_c189a4f8_d83e_11e9_8cfa_acd1b8d26da2row2_col0 {\n",
       "            background-color:  #4479bb;\n",
       "            color:  #000000;\n",
       "            max-width:  90px;\n",
       "            font-size:  10pt;\n",
       "        }    #T_c189a4f8_d83e_11e9_8cfa_acd1b8d26da2row2_col1 {\n",
       "            background-color:  #da3c48;\n",
       "            color:  #f1f1f1;\n",
       "            max-width:  90px;\n",
       "            font-size:  10pt;\n",
       "        }    #T_c189a4f8_d83e_11e9_8cfa_acd1b8d26da2row2_col2 {\n",
       "            background-color:  #4479bb;\n",
       "            color:  #000000;\n",
       "            max-width:  90px;\n",
       "            font-size:  10pt;\n",
       "        }    #T_c189a4f8_d83e_11e9_8cfa_acd1b8d26da2row2_col3 {\n",
       "            background-color:  #da3c48;\n",
       "            color:  #f1f1f1;\n",
       "            max-width:  90px;\n",
       "            font-size:  10pt;\n",
       "        }    #T_c189a4f8_d83e_11e9_8cfa_acd1b8d26da2row2_col4 {\n",
       "            background-color:  #da3c48;\n",
       "            color:  #f1f1f1;\n",
       "            max-width:  90px;\n",
       "            font-size:  10pt;\n",
       "        }    #T_c189a4f8_d83e_11e9_8cfa_acd1b8d26da2row2_col5 {\n",
       "            background-color:  #da3d49;\n",
       "            color:  #f1f1f1;\n",
       "            max-width:  90px;\n",
       "            font-size:  10pt;\n",
       "        }    #T_c189a4f8_d83e_11e9_8cfa_acd1b8d26da2row2_col6 {\n",
       "            background-color:  #da3d49;\n",
       "            color:  #f1f1f1;\n",
       "            max-width:  90px;\n",
       "            font-size:  10pt;\n",
       "        }    #T_c189a4f8_d83e_11e9_8cfa_acd1b8d26da2row2_col7 {\n",
       "            background-color:  #da3b46;\n",
       "            color:  #f1f1f1;\n",
       "            max-width:  90px;\n",
       "            font-size:  10pt;\n",
       "        }    #T_c189a4f8_d83e_11e9_8cfa_acd1b8d26da2row3_col0 {\n",
       "            background-color:  #f4c6c9;\n",
       "            color:  #000000;\n",
       "            max-width:  90px;\n",
       "            font-size:  10pt;\n",
       "        }    #T_c189a4f8_d83e_11e9_8cfa_acd1b8d26da2row3_col1 {\n",
       "            background-color:  #5485c1;\n",
       "            color:  #000000;\n",
       "            max-width:  90px;\n",
       "            font-size:  10pt;\n",
       "        }    #T_c189a4f8_d83e_11e9_8cfa_acd1b8d26da2row3_col2 {\n",
       "            background-color:  #f4c6c9;\n",
       "            color:  #000000;\n",
       "            max-width:  90px;\n",
       "            font-size:  10pt;\n",
       "        }    #T_c189a4f8_d83e_11e9_8cfa_acd1b8d26da2row3_col3 {\n",
       "            background-color:  #4479bb;\n",
       "            color:  #000000;\n",
       "            max-width:  90px;\n",
       "            font-size:  10pt;\n",
       "        }    #T_c189a4f8_d83e_11e9_8cfa_acd1b8d26da2row3_col4 {\n",
       "            background-color:  #da3b46;\n",
       "            color:  #f1f1f1;\n",
       "            max-width:  90px;\n",
       "            font-size:  10pt;\n",
       "        }    #T_c189a4f8_d83e_11e9_8cfa_acd1b8d26da2row3_col5 {\n",
       "            background-color:  #e8858d;\n",
       "            color:  #000000;\n",
       "            max-width:  90px;\n",
       "            font-size:  10pt;\n",
       "        }    #T_c189a4f8_d83e_11e9_8cfa_acd1b8d26da2row3_col6 {\n",
       "            background-color:  #d4e0ef;\n",
       "            color:  #000000;\n",
       "            max-width:  90px;\n",
       "            font-size:  10pt;\n",
       "        }    #T_c189a4f8_d83e_11e9_8cfa_acd1b8d26da2row3_col7 {\n",
       "            background-color:  #eaf0f7;\n",
       "            color:  #000000;\n",
       "            max-width:  90px;\n",
       "            font-size:  10pt;\n",
       "        }    #T_c189a4f8_d83e_11e9_8cfa_acd1b8d26da2row4_col0 {\n",
       "            background-color:  #f4c6c9;\n",
       "            color:  #000000;\n",
       "            max-width:  90px;\n",
       "            font-size:  10pt;\n",
       "        }    #T_c189a4f8_d83e_11e9_8cfa_acd1b8d26da2row4_col1 {\n",
       "            background-color:  #e98c93;\n",
       "            color:  #000000;\n",
       "            max-width:  90px;\n",
       "            font-size:  10pt;\n",
       "        }    #T_c189a4f8_d83e_11e9_8cfa_acd1b8d26da2row4_col2 {\n",
       "            background-color:  #f4c6c9;\n",
       "            color:  #000000;\n",
       "            max-width:  90px;\n",
       "            font-size:  10pt;\n",
       "        }    #T_c189a4f8_d83e_11e9_8cfa_acd1b8d26da2row4_col3 {\n",
       "            background-color:  #da3b46;\n",
       "            color:  #f1f1f1;\n",
       "            max-width:  90px;\n",
       "            font-size:  10pt;\n",
       "        }    #T_c189a4f8_d83e_11e9_8cfa_acd1b8d26da2row4_col4 {\n",
       "            background-color:  #4479bb;\n",
       "            color:  #000000;\n",
       "            max-width:  90px;\n",
       "            font-size:  10pt;\n",
       "        }    #T_c189a4f8_d83e_11e9_8cfa_acd1b8d26da2row4_col5 {\n",
       "            background-color:  #d4e0ef;\n",
       "            color:  #000000;\n",
       "            max-width:  90px;\n",
       "            font-size:  10pt;\n",
       "        }    #T_c189a4f8_d83e_11e9_8cfa_acd1b8d26da2row4_col6 {\n",
       "            background-color:  #ea8f96;\n",
       "            color:  #000000;\n",
       "            max-width:  90px;\n",
       "            font-size:  10pt;\n",
       "        }    #T_c189a4f8_d83e_11e9_8cfa_acd1b8d26da2row4_col7 {\n",
       "            background-color:  #ea9299;\n",
       "            color:  #000000;\n",
       "            max-width:  90px;\n",
       "            font-size:  10pt;\n",
       "        }    #T_c189a4f8_d83e_11e9_8cfa_acd1b8d26da2row5_col0 {\n",
       "            background-color:  #e98b92;\n",
       "            color:  #000000;\n",
       "            max-width:  90px;\n",
       "            font-size:  10pt;\n",
       "        }    #T_c189a4f8_d83e_11e9_8cfa_acd1b8d26da2row5_col1 {\n",
       "            background-color:  #e05963;\n",
       "            color:  #000000;\n",
       "            max-width:  90px;\n",
       "            font-size:  10pt;\n",
       "        }    #T_c189a4f8_d83e_11e9_8cfa_acd1b8d26da2row5_col2 {\n",
       "            background-color:  #e98b92;\n",
       "            color:  #000000;\n",
       "            max-width:  90px;\n",
       "            font-size:  10pt;\n",
       "        }    #T_c189a4f8_d83e_11e9_8cfa_acd1b8d26da2row5_col3 {\n",
       "            background-color:  #da3b46;\n",
       "            color:  #f1f1f1;\n",
       "            max-width:  90px;\n",
       "            font-size:  10pt;\n",
       "        }    #T_c189a4f8_d83e_11e9_8cfa_acd1b8d26da2row5_col4 {\n",
       "            background-color:  #f2f2f2;\n",
       "            color:  #000000;\n",
       "            max-width:  90px;\n",
       "            font-size:  10pt;\n",
       "        }    #T_c189a4f8_d83e_11e9_8cfa_acd1b8d26da2row5_col5 {\n",
       "            background-color:  #4479bb;\n",
       "            color:  #000000;\n",
       "            max-width:  90px;\n",
       "            font-size:  10pt;\n",
       "        }    #T_c189a4f8_d83e_11e9_8cfa_acd1b8d26da2row5_col6 {\n",
       "            background-color:  #e36a73;\n",
       "            color:  #000000;\n",
       "            max-width:  90px;\n",
       "            font-size:  10pt;\n",
       "        }    #T_c189a4f8_d83e_11e9_8cfa_acd1b8d26da2row5_col7 {\n",
       "            background-color:  #f7d6d8;\n",
       "            color:  #000000;\n",
       "            max-width:  90px;\n",
       "            font-size:  10pt;\n",
       "        }    #T_c189a4f8_d83e_11e9_8cfa_acd1b8d26da2row6_col0 {\n",
       "            background-color:  #e78188;\n",
       "            color:  #000000;\n",
       "            max-width:  90px;\n",
       "            font-size:  10pt;\n",
       "        }    #T_c189a4f8_d83e_11e9_8cfa_acd1b8d26da2row6_col1 {\n",
       "            background-color:  #f8d8db;\n",
       "            color:  #000000;\n",
       "            max-width:  90px;\n",
       "            font-size:  10pt;\n",
       "        }    #T_c189a4f8_d83e_11e9_8cfa_acd1b8d26da2row6_col2 {\n",
       "            background-color:  #e78188;\n",
       "            color:  #000000;\n",
       "            max-width:  90px;\n",
       "            font-size:  10pt;\n",
       "        }    #T_c189a4f8_d83e_11e9_8cfa_acd1b8d26da2row6_col3 {\n",
       "            background-color:  #fae5e7;\n",
       "            color:  #000000;\n",
       "            max-width:  90px;\n",
       "            font-size:  10pt;\n",
       "        }    #T_c189a4f8_d83e_11e9_8cfa_acd1b8d26da2row6_col4 {\n",
       "            background-color:  #da3b46;\n",
       "            color:  #f1f1f1;\n",
       "            max-width:  90px;\n",
       "            font-size:  10pt;\n",
       "        }    #T_c189a4f8_d83e_11e9_8cfa_acd1b8d26da2row6_col5 {\n",
       "            background-color:  #e15e68;\n",
       "            color:  #000000;\n",
       "            max-width:  90px;\n",
       "            font-size:  10pt;\n",
       "        }    #T_c189a4f8_d83e_11e9_8cfa_acd1b8d26da2row6_col6 {\n",
       "            background-color:  #4479bb;\n",
       "            color:  #000000;\n",
       "            max-width:  90px;\n",
       "            font-size:  10pt;\n",
       "        }    #T_c189a4f8_d83e_11e9_8cfa_acd1b8d26da2row6_col7 {\n",
       "            background-color:  #d4e0ef;\n",
       "            color:  #000000;\n",
       "            max-width:  90px;\n",
       "            font-size:  10pt;\n",
       "        }    #T_c189a4f8_d83e_11e9_8cfa_acd1b8d26da2row7_col0 {\n",
       "            background-color:  #e67c84;\n",
       "            color:  #000000;\n",
       "            max-width:  90px;\n",
       "            font-size:  10pt;\n",
       "        }    #T_c189a4f8_d83e_11e9_8cfa_acd1b8d26da2row7_col1 {\n",
       "            background-color:  #f1b5b9;\n",
       "            color:  #000000;\n",
       "            max-width:  90px;\n",
       "            font-size:  10pt;\n",
       "        }    #T_c189a4f8_d83e_11e9_8cfa_acd1b8d26da2row7_col2 {\n",
       "            background-color:  #e67c84;\n",
       "            color:  #000000;\n",
       "            max-width:  90px;\n",
       "            font-size:  10pt;\n",
       "        }    #T_c189a4f8_d83e_11e9_8cfa_acd1b8d26da2row7_col3 {\n",
       "            background-color:  #f4c7cb;\n",
       "            color:  #000000;\n",
       "            max-width:  90px;\n",
       "            font-size:  10pt;\n",
       "        }    #T_c189a4f8_d83e_11e9_8cfa_acd1b8d26da2row7_col4 {\n",
       "            background-color:  #da3b46;\n",
       "            color:  #f1f1f1;\n",
       "            max-width:  90px;\n",
       "            font-size:  10pt;\n",
       "        }    #T_c189a4f8_d83e_11e9_8cfa_acd1b8d26da2row7_col5 {\n",
       "            background-color:  #f5cbce;\n",
       "            color:  #000000;\n",
       "            max-width:  90px;\n",
       "            font-size:  10pt;\n",
       "        }    #T_c189a4f8_d83e_11e9_8cfa_acd1b8d26da2row7_col6 {\n",
       "            background-color:  #d5e1f0;\n",
       "            color:  #000000;\n",
       "            max-width:  90px;\n",
       "            font-size:  10pt;\n",
       "        }    #T_c189a4f8_d83e_11e9_8cfa_acd1b8d26da2row7_col7 {\n",
       "            background-color:  #4479bb;\n",
       "            color:  #000000;\n",
       "            max-width:  90px;\n",
       "            font-size:  10pt;\n",
       "        }</style><table id=\"T_c189a4f8_d83e_11e9_8cfa_acd1b8d26da2\" ><caption>Hover to magify</caption><thead>    <tr>        <th class=\"blank level0\" ></th>        <th class=\"col_heading level0 col0\" >ID</th>        <th class=\"col_heading level0 col1\" >Label</th>        <th class=\"col_heading level0 col2\" >House</th>        <th class=\"col_heading level0 col3\" >Year</th>        <th class=\"col_heading level0 col4\" >Month</th>        <th class=\"col_heading level0 col5\" >Temperature</th>        <th class=\"col_heading level0 col6\" >Daylight</th>        <th class=\"col_heading level0 col7\" >EnergyProduction</th>    </tr></thead><tbody>\n",
       "                <tr>\n",
       "                        <th id=\"T_c189a4f8_d83e_11e9_8cfa_acd1b8d26da2level0_row0\" class=\"row_heading level0 row0\" >ID</th>\n",
       "                        <td id=\"T_c189a4f8_d83e_11e9_8cfa_acd1b8d26da2row0_col0\" class=\"data row0 col0\" >1</td>\n",
       "                        <td id=\"T_c189a4f8_d83e_11e9_8cfa_acd1b8d26da2row0_col1\" class=\"data row0 col1\" >0.002</td>\n",
       "                        <td id=\"T_c189a4f8_d83e_11e9_8cfa_acd1b8d26da2row0_col2\" class=\"data row0 col2\" >1</td>\n",
       "                        <td id=\"T_c189a4f8_d83e_11e9_8cfa_acd1b8d26da2row0_col3\" class=\"data row0 col3\" >0.0018</td>\n",
       "                        <td id=\"T_c189a4f8_d83e_11e9_8cfa_acd1b8d26da2row0_col4\" class=\"data row0 col4\" >-0.00051</td>\n",
       "                        <td id=\"T_c189a4f8_d83e_11e9_8cfa_acd1b8d26da2row0_col5\" class=\"data row0 col5\" >0.00035</td>\n",
       "                        <td id=\"T_c189a4f8_d83e_11e9_8cfa_acd1b8d26da2row0_col6\" class=\"data row0 col6\" >0.002</td>\n",
       "                        <td id=\"T_c189a4f8_d83e_11e9_8cfa_acd1b8d26da2row0_col7\" class=\"data row0 col7\" >-0.0074</td>\n",
       "            </tr>\n",
       "            <tr>\n",
       "                        <th id=\"T_c189a4f8_d83e_11e9_8cfa_acd1b8d26da2level0_row1\" class=\"row_heading level0 row1\" >Label</th>\n",
       "                        <td id=\"T_c189a4f8_d83e_11e9_8cfa_acd1b8d26da2row1_col0\" class=\"data row1 col0\" >0.002</td>\n",
       "                        <td id=\"T_c189a4f8_d83e_11e9_8cfa_acd1b8d26da2row1_col1\" class=\"data row1 col1\" >1</td>\n",
       "                        <td id=\"T_c189a4f8_d83e_11e9_8cfa_acd1b8d26da2row1_col2\" class=\"data row1 col2\" >0</td>\n",
       "                        <td id=\"T_c189a4f8_d83e_11e9_8cfa_acd1b8d26da2row1_col3\" class=\"data row1 col3\" >0.92</td>\n",
       "                        <td id=\"T_c189a4f8_d83e_11e9_8cfa_acd1b8d26da2row1_col4\" class=\"data row1 col4\" >-0.25</td>\n",
       "                        <td id=\"T_c189a4f8_d83e_11e9_8cfa_acd1b8d26da2row1_col5\" class=\"data row1 col5\" >-0.18</td>\n",
       "                        <td id=\"T_c189a4f8_d83e_11e9_8cfa_acd1b8d26da2row1_col6\" class=\"data row1 col6\" >0.3</td>\n",
       "                        <td id=\"T_c189a4f8_d83e_11e9_8cfa_acd1b8d26da2row1_col7\" class=\"data row1 col7\" >0.18</td>\n",
       "            </tr>\n",
       "            <tr>\n",
       "                        <th id=\"T_c189a4f8_d83e_11e9_8cfa_acd1b8d26da2level0_row2\" class=\"row_heading level0 row2\" >House</th>\n",
       "                        <td id=\"T_c189a4f8_d83e_11e9_8cfa_acd1b8d26da2row2_col0\" class=\"data row2 col0\" >1</td>\n",
       "                        <td id=\"T_c189a4f8_d83e_11e9_8cfa_acd1b8d26da2row2_col1\" class=\"data row2 col1\" >0</td>\n",
       "                        <td id=\"T_c189a4f8_d83e_11e9_8cfa_acd1b8d26da2row2_col2\" class=\"data row2 col2\" >1</td>\n",
       "                        <td id=\"T_c189a4f8_d83e_11e9_8cfa_acd1b8d26da2row2_col3\" class=\"data row2 col3\" >0</td>\n",
       "                        <td id=\"T_c189a4f8_d83e_11e9_8cfa_acd1b8d26da2row2_col4\" class=\"data row2 col4\" >0</td>\n",
       "                        <td id=\"T_c189a4f8_d83e_11e9_8cfa_acd1b8d26da2row2_col5\" class=\"data row2 col5\" >0.00071</td>\n",
       "                        <td id=\"T_c189a4f8_d83e_11e9_8cfa_acd1b8d26da2row2_col6\" class=\"data row2 col6\" >0.0014</td>\n",
       "                        <td id=\"T_c189a4f8_d83e_11e9_8cfa_acd1b8d26da2row2_col7\" class=\"data row2 col7\" >-0.0078</td>\n",
       "            </tr>\n",
       "            <tr>\n",
       "                        <th id=\"T_c189a4f8_d83e_11e9_8cfa_acd1b8d26da2level0_row3\" class=\"row_heading level0 row3\" >Year</th>\n",
       "                        <td id=\"T_c189a4f8_d83e_11e9_8cfa_acd1b8d26da2row3_col0\" class=\"data row3 col0\" >0.0018</td>\n",
       "                        <td id=\"T_c189a4f8_d83e_11e9_8cfa_acd1b8d26da2row3_col1\" class=\"data row3 col1\" >0.92</td>\n",
       "                        <td id=\"T_c189a4f8_d83e_11e9_8cfa_acd1b8d26da2row3_col2\" class=\"data row3 col2\" >0</td>\n",
       "                        <td id=\"T_c189a4f8_d83e_11e9_8cfa_acd1b8d26da2row3_col3\" class=\"data row3 col3\" >1</td>\n",
       "                        <td id=\"T_c189a4f8_d83e_11e9_8cfa_acd1b8d26da2row3_col4\" class=\"data row3 col4\" >-0.61</td>\n",
       "                        <td id=\"T_c189a4f8_d83e_11e9_8cfa_acd1b8d26da2row3_col5\" class=\"data row3 col5\" >-0.28</td>\n",
       "                        <td id=\"T_c189a4f8_d83e_11e9_8cfa_acd1b8d26da2row3_col6\" class=\"data row3 col6\" >0.34</td>\n",
       "                        <td id=\"T_c189a4f8_d83e_11e9_8cfa_acd1b8d26da2row3_col7\" class=\"data row3 col7\" >0.24</td>\n",
       "            </tr>\n",
       "            <tr>\n",
       "                        <th id=\"T_c189a4f8_d83e_11e9_8cfa_acd1b8d26da2level0_row4\" class=\"row_heading level0 row4\" >Month</th>\n",
       "                        <td id=\"T_c189a4f8_d83e_11e9_8cfa_acd1b8d26da2row4_col0\" class=\"data row4 col0\" >-0.00051</td>\n",
       "                        <td id=\"T_c189a4f8_d83e_11e9_8cfa_acd1b8d26da2row4_col1\" class=\"data row4 col1\" >-0.25</td>\n",
       "                        <td id=\"T_c189a4f8_d83e_11e9_8cfa_acd1b8d26da2row4_col2\" class=\"data row4 col2\" >0</td>\n",
       "                        <td id=\"T_c189a4f8_d83e_11e9_8cfa_acd1b8d26da2row4_col3\" class=\"data row4 col3\" >-0.61</td>\n",
       "                        <td id=\"T_c189a4f8_d83e_11e9_8cfa_acd1b8d26da2row4_col4\" class=\"data row4 col4\" >1</td>\n",
       "                        <td id=\"T_c189a4f8_d83e_11e9_8cfa_acd1b8d26da2row4_col5\" class=\"data row4 col5\" >0.34</td>\n",
       "                        <td id=\"T_c189a4f8_d83e_11e9_8cfa_acd1b8d26da2row4_col6\" class=\"data row4 col6\" >-0.24</td>\n",
       "                        <td id=\"T_c189a4f8_d83e_11e9_8cfa_acd1b8d26da2row4_col7\" class=\"data row4 col7\" >-0.23</td>\n",
       "            </tr>\n",
       "            <tr>\n",
       "                        <th id=\"T_c189a4f8_d83e_11e9_8cfa_acd1b8d26da2level0_row5\" class=\"row_heading level0 row5\" >Temperature</th>\n",
       "                        <td id=\"T_c189a4f8_d83e_11e9_8cfa_acd1b8d26da2row5_col0\" class=\"data row5 col0\" >0.00035</td>\n",
       "                        <td id=\"T_c189a4f8_d83e_11e9_8cfa_acd1b8d26da2row5_col1\" class=\"data row5 col1\" >-0.18</td>\n",
       "                        <td id=\"T_c189a4f8_d83e_11e9_8cfa_acd1b8d26da2row5_col2\" class=\"data row5 col2\" >0.00071</td>\n",
       "                        <td id=\"T_c189a4f8_d83e_11e9_8cfa_acd1b8d26da2row5_col3\" class=\"data row5 col3\" >-0.28</td>\n",
       "                        <td id=\"T_c189a4f8_d83e_11e9_8cfa_acd1b8d26da2row5_col4\" class=\"data row5 col4\" >0.34</td>\n",
       "                        <td id=\"T_c189a4f8_d83e_11e9_8cfa_acd1b8d26da2row5_col5\" class=\"data row5 col5\" >1</td>\n",
       "                        <td id=\"T_c189a4f8_d83e_11e9_8cfa_acd1b8d26da2row5_col6\" class=\"data row5 col6\" >-0.12</td>\n",
       "                        <td id=\"T_c189a4f8_d83e_11e9_8cfa_acd1b8d26da2row5_col7\" class=\"data row5 col7\" >0.26</td>\n",
       "            </tr>\n",
       "            <tr>\n",
       "                        <th id=\"T_c189a4f8_d83e_11e9_8cfa_acd1b8d26da2level0_row6\" class=\"row_heading level0 row6\" >Daylight</th>\n",
       "                        <td id=\"T_c189a4f8_d83e_11e9_8cfa_acd1b8d26da2row6_col0\" class=\"data row6 col0\" >0.002</td>\n",
       "                        <td id=\"T_c189a4f8_d83e_11e9_8cfa_acd1b8d26da2row6_col1\" class=\"data row6 col1\" >0.3</td>\n",
       "                        <td id=\"T_c189a4f8_d83e_11e9_8cfa_acd1b8d26da2row6_col2\" class=\"data row6 col2\" >0.0014</td>\n",
       "                        <td id=\"T_c189a4f8_d83e_11e9_8cfa_acd1b8d26da2row6_col3\" class=\"data row6 col3\" >0.34</td>\n",
       "                        <td id=\"T_c189a4f8_d83e_11e9_8cfa_acd1b8d26da2row6_col4\" class=\"data row6 col4\" >-0.24</td>\n",
       "                        <td id=\"T_c189a4f8_d83e_11e9_8cfa_acd1b8d26da2row6_col5\" class=\"data row6 col5\" >-0.12</td>\n",
       "                        <td id=\"T_c189a4f8_d83e_11e9_8cfa_acd1b8d26da2row6_col6\" class=\"data row6 col6\" >1</td>\n",
       "                        <td id=\"T_c189a4f8_d83e_11e9_8cfa_acd1b8d26da2row6_col7\" class=\"data row6 col7\" >0.5</td>\n",
       "            </tr>\n",
       "            <tr>\n",
       "                        <th id=\"T_c189a4f8_d83e_11e9_8cfa_acd1b8d26da2level0_row7\" class=\"row_heading level0 row7\" >EnergyProduction</th>\n",
       "                        <td id=\"T_c189a4f8_d83e_11e9_8cfa_acd1b8d26da2row7_col0\" class=\"data row7 col0\" >-0.0074</td>\n",
       "                        <td id=\"T_c189a4f8_d83e_11e9_8cfa_acd1b8d26da2row7_col1\" class=\"data row7 col1\" >0.18</td>\n",
       "                        <td id=\"T_c189a4f8_d83e_11e9_8cfa_acd1b8d26da2row7_col2\" class=\"data row7 col2\" >-0.0078</td>\n",
       "                        <td id=\"T_c189a4f8_d83e_11e9_8cfa_acd1b8d26da2row7_col3\" class=\"data row7 col3\" >0.24</td>\n",
       "                        <td id=\"T_c189a4f8_d83e_11e9_8cfa_acd1b8d26da2row7_col4\" class=\"data row7 col4\" >-0.23</td>\n",
       "                        <td id=\"T_c189a4f8_d83e_11e9_8cfa_acd1b8d26da2row7_col5\" class=\"data row7 col5\" >0.26</td>\n",
       "                        <td id=\"T_c189a4f8_d83e_11e9_8cfa_acd1b8d26da2row7_col6\" class=\"data row7 col6\" >0.5</td>\n",
       "                        <td id=\"T_c189a4f8_d83e_11e9_8cfa_acd1b8d26da2row7_col7\" class=\"data row7 col7\" >1</td>\n",
       "            </tr>\n",
       "    </tbody></table>"
      ],
      "text/plain": [
       "<pandas.io.formats.style.Styler at 0x24b137d5dd8>"
      ]
     },
     "execution_count": 191,
     "metadata": {},
     "output_type": "execute_result"
    }
   ],
   "source": [
    "cmap = cmap=sns.diverging_palette(10, 250, as_cmap=True)\n",
    "\n",
    "def magnify():\n",
    "    return [dict(selector=\"th\",\n",
    "                 props=[(\"font-size\", \"9pt\")]),\n",
    "            dict(selector=\"td\",\n",
    "                 props=[('padding', \"0em 0em\")]),\n",
    "            dict(selector=\"th:hover\",\n",
    "                 props=[(\"font-size\", \"12pt\")]),\n",
    "            dict(selector=\"tr:hover td:hover\",\n",
    "                 props=[('max-width', '300px'),\n",
    "                        ('font-size', '12pt')])\n",
    "]\n",
    "\n",
    "corr.style.background_gradient(cmap, axis=1)\\\n",
    "    .set_properties(**{'max-width': '90px', 'font-size': '10pt'})\\\n",
    "    .set_caption(\"Hover to magify\")\\\n",
    "    .set_precision(2)\\\n",
    "    .set_table_styles(magnify())"
   ]
  },
  {
   "cell_type": "markdown",
   "metadata": {},
   "source": [
    "#### Comment  \n",
    "Bellow  **figure** shows a rectangular Plot of the data as a color-encoded matrix. This is an Axes-level function and draw the heatmap  . **figure** shows there is positive correlation between Energy Production and Daylight\n",
    "\n",
    "However, we can see in figure bellow there is relation amongst variables highlighted with a blue square :\n",
    "\n",
    "   - A moderate negative relation between **Year** and **Months** = `-0.6`\n",
    "   - A weak negative (downhill sloping) relationship between **Year** and **Temperature** = `–0.3` \n",
    "   - A weak negative (downhill sloping) relationship between **Months** and **EnergyProduction** = `+0.2`\n",
    "   - A weak positive (upward sloping) relationship between **Temperature** and **EnergyProduction** = `+0.3`\n",
    "   - A moderate positive (upward sloping) relationship between **Daylight** and **EnergyProduction** = `+0.50`\n",
    "   \n",
    "\n",
    "<br>\n",
    "\n",
    "<img src=\"untitled.png\" align=\"left\"/>"
   ]
  },
  {
   "cell_type": "markdown",
   "metadata": {},
   "source": [
    "### Plot pairwise relationships in a dataset."
   ]
  },
  {
   "cell_type": "code",
   "execution_count": 97,
   "metadata": {
    "scrolled": true
   },
   "outputs": [
    {
     "data": {
      "text/html": [
       "<div>\n",
       "<style scoped>\n",
       "    .dataframe tbody tr th:only-of-type {\n",
       "        vertical-align: middle;\n",
       "    }\n",
       "\n",
       "    .dataframe tbody tr th {\n",
       "        vertical-align: top;\n",
       "    }\n",
       "\n",
       "    .dataframe thead th {\n",
       "        text-align: right;\n",
       "    }\n",
       "</style>\n",
       "<table border=\"1\" class=\"dataframe\">\n",
       "  <thead>\n",
       "    <tr style=\"text-align: right;\">\n",
       "      <th></th>\n",
       "      <th>Daylight</th>\n",
       "      <th>EnergyProduction</th>\n",
       "    </tr>\n",
       "  </thead>\n",
       "  <tbody>\n",
       "    <tr>\n",
       "      <th>Daylight</th>\n",
       "      <td>1.000000</td>\n",
       "      <td>0.519554</td>\n",
       "    </tr>\n",
       "    <tr>\n",
       "      <th>EnergyProduction</th>\n",
       "      <td>0.519554</td>\n",
       "      <td>1.000000</td>\n",
       "    </tr>\n",
       "  </tbody>\n",
       "</table>\n",
       "</div>"
      ],
      "text/plain": [
       "                  Daylight  EnergyProduction\n",
       "Daylight          1.000000          0.519554\n",
       "EnergyProduction  0.519554          1.000000"
      ]
     },
     "execution_count": 97,
     "metadata": {},
     "output_type": "execute_result"
    },
    {
     "data": {
      "image/png": "[encoded data removed]",
      "text/plain": [
       "<Figure size 360x360 with 6 Axes>"
      ]
     },
     "metadata": {
      "needs_background": "light"
     },
     "output_type": "display_data"
    }
   ],
   "source": [
    "null = sns.pairplot(u_data_train[['Daylight','EnergyProduction']])\n",
    "pd.DataFrame(np.corrcoef(u_data_train[['Daylight','EnergyProduction']].T),columns=['Daylight','EnergyProduction'],index=['Daylight','EnergyProduction'])"
   ]
  },
  {
   "cell_type": "code",
   "execution_count": 152,
   "metadata": {
    "scrolled": true
   },
   "outputs": [
    {
     "data": {
      "text/plain": [
       "<seaborn.axisgrid.PairGrid at 0x24b130da710>"
      ]
     },
     "execution_count": 152,
     "metadata": {},
     "output_type": "execute_result"
    },
    {
     "data": {
      "image/png": "[encoded data removed]",
      "text/plain": [
       "<Figure size 360x360 with 6 Axes>"
      ]
     },
     "metadata": {
      "needs_background": "light"
     },
     "output_type": "display_data"
    }
   ],
   "source": [
    "sns.pairplot(df1[['Daylight','EnergyProduction']])"
   ]
  },
  {
   "cell_type": "markdown",
   "metadata": {},
   "source": [
    "###  visual overview   \n",
    "\n",
    "graph and table form a regression of Daylight and Temperature .\n",
    "\n",
    "data is of time series Plotting ."
   ]
  },
  {
   "cell_type": "code",
   "execution_count": 148,
   "metadata": {},
   "outputs": [
    {
     "data": {
      "image/png": "[encoded data removed]",
      "text/plain": [
       "<Figure size 1008x216 with 3 Axes>"
      ]
     },
     "metadata": {
      "needs_background": "light"
     },
     "output_type": "display_data"
    }
   ],
   "source": [
    "rng=pd.date_range('7/1/2011', '6/1/2013', freq='M')\n",
    "house1 = data_train[data_train.House==1][['EnergyProduction','Daylight','Temperature']].set_index(rng)\n",
    "fig, axes = plt.subplots(nrows=1, ncols=3)\n",
    "for i, column in enumerate(house1.columns):\n",
    "    house1[column].plot(ax=axes[i], figsize=(14,3), title=column)"
   ]
  },
  {
   "cell_type": "markdown",
   "metadata": {},
   "source": [
    "descriptive statistics about data. \n",
    "\n",
    "- **mean** = average \n",
    "- **median** = values in the middle of the rage\n",
    "- **mode** = The number which appears most often in a set of numbers"
   ]
  },
  {
   "cell_type": "markdown",
   "metadata": {},
   "source": [
    "In the dataframe below we are assigning our dataframe to an array. "
   ]
  },
  {
   "cell_type": "code",
   "execution_count": 108,
   "metadata": {
    "scrolled": true
   },
   "outputs": [
    {
     "data": {
      "text/html": [
       "<div>\n",
       "<style scoped>\n",
       "    .dataframe tbody tr th:only-of-type {\n",
       "        vertical-align: middle;\n",
       "    }\n",
       "\n",
       "    .dataframe tbody tr th {\n",
       "        vertical-align: top;\n",
       "    }\n",
       "\n",
       "    .dataframe thead th {\n",
       "        text-align: right;\n",
       "    }\n",
       "</style>\n",
       "<table border=\"1\" class=\"dataframe\">\n",
       "  <thead>\n",
       "    <tr style=\"text-align: right;\">\n",
       "      <th></th>\n",
       "      <th>ID</th>\n",
       "      <th>Label</th>\n",
       "      <th>House</th>\n",
       "      <th>Year</th>\n",
       "      <th>Month</th>\n",
       "      <th>Temperature</th>\n",
       "      <th>Daylight</th>\n",
       "      <th>EnergyProduction</th>\n",
       "    </tr>\n",
       "  </thead>\n",
       "  <tbody>\n",
       "    <tr>\n",
       "      <th>count</th>\n",
       "      <td>12000.00000</td>\n",
       "      <td>12000.000000</td>\n",
       "      <td>12000.000000</td>\n",
       "      <td>12000.000000</td>\n",
       "      <td>12000.000000</td>\n",
       "      <td>12000.000000</td>\n",
       "      <td>12000.000000</td>\n",
       "      <td>12000.000000</td>\n",
       "    </tr>\n",
       "    <tr>\n",
       "      <th>mean</th>\n",
       "      <td>5999.50000</td>\n",
       "      <td>11.500000</td>\n",
       "      <td>250.500000</td>\n",
       "      <td>2012.000000</td>\n",
       "      <td>6.500000</td>\n",
       "      <td>14.677892</td>\n",
       "      <td>186.454767</td>\n",
       "      <td>611.666583</td>\n",
       "    </tr>\n",
       "    <tr>\n",
       "      <th>std</th>\n",
       "      <td>3464.24595</td>\n",
       "      <td>6.922475</td>\n",
       "      <td>144.343293</td>\n",
       "      <td>0.707136</td>\n",
       "      <td>3.452196</td>\n",
       "      <td>8.442057</td>\n",
       "      <td>31.525892</td>\n",
       "      <td>140.608265</td>\n",
       "    </tr>\n",
       "    <tr>\n",
       "      <th>min</th>\n",
       "      <td>0.00000</td>\n",
       "      <td>0.000000</td>\n",
       "      <td>1.000000</td>\n",
       "      <td>2011.000000</td>\n",
       "      <td>1.000000</td>\n",
       "      <td>0.800000</td>\n",
       "      <td>121.800000</td>\n",
       "      <td>254.000000</td>\n",
       "    </tr>\n",
       "    <tr>\n",
       "      <th>25%</th>\n",
       "      <td>2999.75000</td>\n",
       "      <td>5.750000</td>\n",
       "      <td>125.750000</td>\n",
       "      <td>2011.750000</td>\n",
       "      <td>3.750000</td>\n",
       "      <td>6.175000</td>\n",
       "      <td>167.100000</td>\n",
       "      <td>509.000000</td>\n",
       "    </tr>\n",
       "    <tr>\n",
       "      <th>50%</th>\n",
       "      <td>5999.50000</td>\n",
       "      <td>11.500000</td>\n",
       "      <td>250.500000</td>\n",
       "      <td>2012.000000</td>\n",
       "      <td>6.500000</td>\n",
       "      <td>14.550000</td>\n",
       "      <td>180.400000</td>\n",
       "      <td>588.000000</td>\n",
       "    </tr>\n",
       "    <tr>\n",
       "      <th>75%</th>\n",
       "      <td>8999.25000</td>\n",
       "      <td>17.250000</td>\n",
       "      <td>375.250000</td>\n",
       "      <td>2012.250000</td>\n",
       "      <td>9.250000</td>\n",
       "      <td>22.700000</td>\n",
       "      <td>204.300000</td>\n",
       "      <td>695.000000</td>\n",
       "    </tr>\n",
       "    <tr>\n",
       "      <th>max</th>\n",
       "      <td>11999.00000</td>\n",
       "      <td>23.000000</td>\n",
       "      <td>500.000000</td>\n",
       "      <td>2013.000000</td>\n",
       "      <td>12.000000</td>\n",
       "      <td>29.000000</td>\n",
       "      <td>271.300000</td>\n",
       "      <td>1254.000000</td>\n",
       "    </tr>\n",
       "  </tbody>\n",
       "</table>\n",
       "</div>"
      ],
      "text/plain": [
       "                ID         Label         House          Year         Month  \\\n",
       "count  12000.00000  12000.000000  12000.000000  12000.000000  12000.000000   \n",
       "mean    5999.50000     11.500000    250.500000   2012.000000      6.500000   \n",
       "std     3464.24595      6.922475    144.343293      0.707136      3.452196   \n",
       "min        0.00000      0.000000      1.000000   2011.000000      1.000000   \n",
       "25%     2999.75000      5.750000    125.750000   2011.750000      3.750000   \n",
       "50%     5999.50000     11.500000    250.500000   2012.000000      6.500000   \n",
       "75%     8999.25000     17.250000    375.250000   2012.250000      9.250000   \n",
       "max    11999.00000     23.000000    500.000000   2013.000000     12.000000   \n",
       "\n",
       "        Temperature      Daylight  EnergyProduction  \n",
       "count  12000.000000  12000.000000      12000.000000  \n",
       "mean      14.677892    186.454767        611.666583  \n",
       "std        8.442057     31.525892        140.608265  \n",
       "min        0.800000    121.800000        254.000000  \n",
       "25%        6.175000    167.100000        509.000000  \n",
       "50%       14.550000    180.400000        588.000000  \n",
       "75%       22.700000    204.300000        695.000000  \n",
       "max       29.000000    271.300000       1254.000000  "
      ]
     },
     "execution_count": 108,
     "metadata": {},
     "output_type": "execute_result"
    }
   ],
   "source": [
    "df1.describe()"
   ]
  },
  {
   "cell_type": "code",
   "execution_count": 109,
   "metadata": {},
   "outputs": [],
   "source": [
    "array1 = df1.values"
   ]
  },
  {
   "cell_type": "code",
   "execution_count": 110,
   "metadata": {},
   "outputs": [
    {
     "data": {
      "text/plain": [
       "array([[0.0000e+00, 0.0000e+00, 1.0000e+00, ..., 2.6200e+01, 1.7890e+02,\n",
       "        7.4000e+02],\n",
       "       [1.0000e+00, 1.0000e+00, 1.0000e+00, ..., 2.5800e+01, 1.6970e+02,\n",
       "        7.3100e+02],\n",
       "       [2.0000e+00, 2.0000e+00, 1.0000e+00, ..., 2.2800e+01, 1.7020e+02,\n",
       "        6.9400e+02],\n",
       "       ...,\n",
       "       [1.1997e+04, 2.1000e+01, 5.0000e+02, ..., 1.3600e+01, 2.3710e+02,\n",
       "        7.5800e+02],\n",
       "       [1.1998e+04, 2.2000e+01, 5.0000e+02, ..., 1.9200e+01, 2.5840e+02,\n",
       "        8.3800e+02],\n",
       "       [1.1999e+04, 2.3000e+01, 5.0000e+02, ..., 2.2700e+01, 1.2290e+02,\n",
       "        5.8600e+02]])"
      ]
     },
     "execution_count": 110,
     "metadata": {},
     "output_type": "execute_result"
    }
   ],
   "source": [
    "array1"
   ]
  },
  {
   "cell_type": "markdown",
   "metadata": {},
   "source": [
    "we assinging **X** and **y** to an array.  an array starts at **0**.  we have **8** rows. the array from 0 to 7.  **y** array below the column in the array mapped to the **7th row**."
   ]
  },
  {
   "cell_type": "code",
   "execution_count": 111,
   "metadata": {},
   "outputs": [],
   "source": [
    "X1 = array1[:,0:7] \n",
    "Y1 = array1[:,7]"
   ]
  },
  {
   "cell_type": "markdown",
   "metadata": {},
   "source": [
    "We are using group by to view the distribution of values in our column. this column is  **target variable**. \n",
    "It's that thing we are trying to predict. \n",
    "\n",
    "when it comes to scoring our model. Classiﬁcation accuracy is the number of correct predictions made as a ratio of all predictions made. \n",
    "\n",
    "This is the most common evaluation metric for classiﬁcation problems, it is also the most misused.\n",
    "\n",
    "**Accuracy** is only really useful when there are an even distribution of values in a data set. \n",
    "\n",
    "our data set they are nearly perfectly even. "
   ]
  },
  {
   "cell_type": "markdown",
   "metadata": {},
   "source": [
    "# Algorithms \n",
    "\n",
    "import a model called **train_test_split** and one called **SVC**. \n",
    "\n",
    "\n",
    "importing a Support Vector Machine (sklearn.**svm**)\n",
    "\n",
    " SVC is a classifier in the labled data section. \n",
    " \n",
    "In sklearn it's called a SVC or support vector classifier. \n",
    "\n",
    "supervised learning algorithm for classification ror fo regression. they draw a boundary between clusters of data.\n"
   ]
  },
  {
   "cell_type": "code",
   "execution_count": 115,
   "metadata": {},
   "outputs": [],
   "source": [
    "from sklearn.model_selection import train_test_split \n",
    "from sklearn.svm import SVC"
   ]
  },
  {
   "cell_type": "markdown",
   "metadata": {},
   "source": [
    "## data split  Test/Train"
   ]
  },
  {
   "cell_type": "markdown",
   "metadata": {},
   "source": [
    "**I will hold out part of the available data as a test set** ``X_test, y_test`` \n",
    "\n",
    "\n",
    " 70/30 \n"
   ]
  },
  {
   "cell_type": "code",
   "execution_count": 116,
   "metadata": {},
   "outputs": [],
   "source": [
    "test_size = 0.30\n",
    "seed = 7"
   ]
  },
  {
   "cell_type": "markdown",
   "metadata": {},
   "source": [
    "The seed above is so we can reproduce our results. "
   ]
  },
  {
   "cell_type": "code",
   "execution_count": 117,
   "metadata": {},
   "outputs": [],
   "source": [
    "X_train, X_test, Y_train, Y_test = train_test_split(X1, Y1, test_size=test_size, random_state=seed)"
   ]
  },
  {
   "cell_type": "markdown",
   "metadata": {},
   "source": [
    "## SVC Algorithms "
   ]
  },
  {
   "cell_type": "code",
   "execution_count": 118,
   "metadata": {},
   "outputs": [],
   "source": [
    "model = SVC()"
   ]
  },
  {
   "cell_type": "markdown",
   "metadata": {},
   "source": [
    "### fitting Algorithms\n",
    "\n",
    "fitting our model variable to training set. \n",
    "\n",
    "we call the model as is without any parameters. \n"
   ]
  },
  {
   "cell_type": "code",
   "execution_count": 119,
   "metadata": {},
   "outputs": [
    {
     "name": "stderr",
     "output_type": "stream",
     "text": [
      "C:\\ProgramData\\Anaconda3\\lib\\site-packages\\sklearn\\svm\\base.py:193: FutureWarning: The default value of gamma will change from 'auto' to 'scale' in version 0.22 to account better for unscaled features. Set gamma explicitly to 'auto' or 'scale' to avoid this warning.\n",
      "  \"avoid this warning.\", FutureWarning)\n"
     ]
    },
    {
     "data": {
      "text/plain": [
       "SVC(C=1.0, cache_size=200, class_weight=None, coef0=0.0,\n",
       "    decision_function_shape='ovr', degree=3, gamma='auto_deprecated',\n",
       "    kernel='rbf', max_iter=-1, probability=False, random_state=None,\n",
       "    shrinking=True, tol=0.001, verbose=False)"
      ]
     },
     "execution_count": 119,
     "metadata": {},
     "output_type": "execute_result"
    }
   ],
   "source": [
    "model.fit(X_train, Y_train) "
   ]
  },
  {
   "cell_type": "markdown",
   "metadata": {
    "cell_style": "split"
   },
   "source": [
    "###  First Result of SVC model "
   ]
  },
  {
   "cell_type": "code",
   "execution_count": 120,
   "metadata": {},
   "outputs": [],
   "source": [
    "result = model.score(X_test, Y_test)"
   ]
  },
  {
   "cell_type": "code",
   "execution_count": 121,
   "metadata": {},
   "outputs": [
    {
     "data": {
      "text/plain": [
       "0.0075"
      ]
     },
     "execution_count": 121,
     "metadata": {},
     "output_type": "execute_result"
    }
   ],
   "source": [
    "result\n",
    "print(\"result= %f\" % (result*100.0)) "
   ]
  },
  {
   "cell_type": "markdown",
   "metadata": {},
   "source": [
    "### Accuracy of SVC\n",
    "\n",
    "print the accuracy of our model. "
   ]
  },
  {
   "cell_type": "code",
   "execution_count": 138,
   "metadata": {},
   "outputs": [
    {
     "name": "stdout",
     "output_type": "stream",
     "text": [
      "Accuracy= 91.750000\n"
     ]
    }
   ],
   "source": [
    "#print(\"Accuracy: %.3f%%\") % (result*100.0)\n",
    "\n",
    "print(\"Accuracy= %f\" % (result*100.0)) "
   ]
  },
  {
   "cell_type": "code",
   "execution_count": null,
   "metadata": {},
   "outputs": [],
   "source": []
  },
  {
   "cell_type": "markdown",
   "metadata": {},
   "source": [
    " ### A ) parameter tuning &  Better  result = 92 % \n",
    "\n",
    "In the code below i will put tune our parameter for better accuracy result , So :\n",
    "\n",
    "I have change the ``seed`` from 7 to 45 . "
   ]
  },
  {
   "cell_type": "code",
   "execution_count": 140,
   "metadata": {
    "scrolled": true
   },
   "outputs": [
    {
     "name": "stderr",
     "output_type": "stream",
     "text": [
      "C:\\ProgramData\\Anaconda3\\lib\\site-packages\\sklearn\\ensemble\\forest.py:245: FutureWarning: The default value of n_estimators will change from 10 in version 0.20 to 100 in 0.22.\n",
      "  \"10 in version 0.20 to 100 in 0.22.\", FutureWarning)\n"
     ]
    },
    {
     "name": "stdout",
     "output_type": "stream",
     "text": [
      "Better Accuracy= 92.000000\n"
     ]
    }
   ],
   "source": [
    "\n",
    "\n",
    "filename = 'dataset_500.csv'\n",
    "dataframe = read_csv(filename) \n",
    "\n",
    "array = dataframe.values\n",
    "X = array[:,0:7] \n",
    "Y = array[:,7]\n",
    "\n",
    "test_size = .30\n",
    "seed = 45\n",
    "X_train, X_test, Y_train, Y_test = train_test_split(X, Y, test_size=test_size, random_state=seed)\n",
    "\n",
    "model = RandomForestClassifier()\n",
    "model.fit(X_train, Y_train) \n",
    "\n",
    "result = model.score(X_test, Y_test)\n",
    "\n",
    "#print(\"Accuracy: %.3f%%\") % (result*100.0)\n",
    "print(\"Better Accuracy= %f\" % (result*100.0)) \n"
   ]
  },
  {
   "cell_type": "markdown",
   "metadata": {},
   "source": [
    "### B ) parameter tuning &  Better  result   = 93 %\n",
    "\n",
    "In the code below i will put tune our parameter for better accuracy result , So :\n",
    "\n",
    "I have change the ``split TEST data size `` from **30**  TO **25** . "
   ]
  },
  {
   "cell_type": "code",
   "execution_count": 141,
   "metadata": {
    "scrolled": true
   },
   "outputs": [
    {
     "name": "stderr",
     "output_type": "stream",
     "text": [
      "C:\\ProgramData\\Anaconda3\\lib\\site-packages\\sklearn\\ensemble\\forest.py:245: FutureWarning: The default value of n_estimators will change from 10 in version 0.20 to 100 in 0.22.\n",
      "  \"10 in version 0.20 to 100 in 0.22.\", FutureWarning)\n"
     ]
    },
    {
     "name": "stdout",
     "output_type": "stream",
     "text": [
      "Better Accuracy= 93.866667\n"
     ]
    }
   ],
   "source": [
    "\n",
    "\n",
    "filename = 'dataset_500.csv'\n",
    "dataframe = read_csv(filename) \n",
    "\n",
    "array = dataframe.values\n",
    "X = array[:,0:7] \n",
    "Y = array[:,7]\n",
    "\n",
    "test_size = .25\n",
    "seed = 45\n",
    "X_train, X_test, Y_train, Y_test = train_test_split(X, Y, test_size=test_size, random_state=seed)\n",
    "\n",
    "model = RandomForestClassifier()\n",
    "model.fit(X_train, Y_train) \n",
    "\n",
    "result = model.score(X_test, Y_test)\n",
    "\n",
    "#print(\"Accuracy: %.3f%%\") % (result*100.0)\n",
    "print(\"Better Accuracy= %f\" % (result*100.0)) \n"
   ]
  },
  {
   "cell_type": "markdown",
   "metadata": {},
   "source": [
    "---"
   ]
  },
  {
   "cell_type": "markdown",
   "metadata": {},
   "source": [
    "## Different Algorithms\n",
    "\n",
    "I use a different Algorithms for the  tests. \n",
    "\n",
    "I will  run our entire model in one cell. \n",
    "\n",
    "I will have to take two steps to substitue another model. \n",
    "\n",
    "\n",
    "- I will Import the new model. (from sklearn.neighbors import KNeighborsClassifier)\n",
    "- I will then Map the model variable to the new algorithm. (model = KNeighborsClassifier())\n",
    "\n",
    "I use comments below to show what was changed. "
   ]
  },
  {
   "cell_type": "code",
   "execution_count": 147,
   "metadata": {},
   "outputs": [
    {
     "name": "stderr",
     "output_type": "stream",
     "text": [
      "C:\\ProgramData\\Anaconda3\\lib\\site-packages\\sklearn\\svm\\base.py:193: FutureWarning: The default value of gamma will change from 'auto' to 'scale' in version 0.22 to account better for unscaled features. Set gamma explicitly to 'auto' or 'scale' to avoid this warning.\n",
      "  \"avoid this warning.\", FutureWarning)\n"
     ]
    },
    {
     "name": "stdout",
     "output_type": "stream",
     "text": [
      "Different Algorithms Accuracy= 88.888889\n"
     ]
    }
   ],
   "source": [
    "filename = 'dataset_500.csv'\n",
    "dataframe = read_csv(filename) \n",
    "\n",
    "array = dataframe.values\n",
    "X = array[:,0:7] \n",
    "Y = array[:,7]\n",
    "\n",
    "test_size = .30\n",
    "seed = 45\n",
    "X_train, X_test, Y_train, Y_test = train_test_split(X, Y, test_size=test_size, random_state=seed)\n",
    "\n",
    "model = SVC()\n",
    "model.fit(X_train, Y_train) \n",
    "\n",
    "result = model.score(X_test, Y_test)\n",
    "\n",
    "#print(\"Accuracy: %.3f%%\") % (result*100.0)\n",
    "print(\"Different Algorithms Accuracy= %f\" % ((result*100)*100))"
   ]
  },
  {
   "cell_type": "markdown",
   "metadata": {},
   "source": [
    "### Ensemble Methods\n",
    "\n",
    "Ensemble methods combine several machine learning techniques into one predictive model to decrease variance (bagging), bias , to improve predictions (stacking). \n",
    "\n",
    " - divided into two groups: sequential ensemble methods where the base learners are generated sequentially \n",
    " - and parallel ensemble methods where the base learners are generated in parallel . \n",
    " \n",
    "*** The basic motivation of sequential methods is :\n",
    "\n",
    "   - to exploit the dependence between the base learners since the overall performance can be boosted by weighing previously mislabeled examples with higher weight. \n",
    "\n",
    "   - to exploit independence between the base learners since the error can be reduced dramatically by averaging.\n",
    "\n",
    "    **Bagging**\n",
    "\n",
    "    Bagging stands for bootstrap aggregation to reduce the variance of an estimate is to average together multiple estimates. For example, we can train  M different trees \\fm  on different subsets of the data (chosen randomly with replacement) and compute the ensemble: \n",
    "        - Bagging uses bootstrap sampling to obtain the data subsets for training the base learners. For aggregating the outputs of base learners, bagging uses voting for classification and averaging for regression.\n",
    "        \n",
    "        $$f(x)=\\frac{1}{M}\\sum_{m} $$"
   ]
  },
  {
   "cell_type": "code",
   "execution_count": 172,
   "metadata": {},
   "outputs": [],
   "source": [
    "clf1 = DecisionTreeClassifier(criterion='entropy', max_depth=1)\n",
    "clf2 = KNeighborsClassifier(n_neighbors=1)    \n",
    "\n",
    "bagging1 = BaggingClassifier(base_estimator=clf1, n_estimators=10, max_samples=0.8, max_features=0.8)\n",
    "bagging2 = BaggingClassifier(base_estimator=clf2, n_estimators=10, max_samples=0.8, max_features=0.8)"
   ]
  },
  {
   "cell_type": "code",
   "execution_count": 173,
   "metadata": {
    "scrolled": true
   },
   "outputs": [
    {
     "data": {
      "image/png": "[encoded data removed]",
      "text/plain": [
       "<Figure size 432x288 with 1 Axes>"
      ]
     },
     "metadata": {
      "needs_background": "light"
     },
     "output_type": "display_data"
    }
   ],
   "source": [
    "plt.figure()\n",
    "plot_learning_curves(X_train, Y_train, X_test, Y_test, bagging1, print_model=False, style='ggplot')\n",
    "plt.show()"
   ]
  },
  {
   "cell_type": "markdown",
   "metadata": {},
   "source": [
    "figure above shows learning curves for the bagging tree ensemble, and the average error of `0.3` on the **training** data and a U-shaped error curve for the testing data. The smallest gap between training and test errors occurs at around ` 80 %` of the training set size."
   ]
  },
  {
   "cell_type": "code",
   "execution_count": 174,
   "metadata": {},
   "outputs": [],
   "source": [
    "#Ensemble Size\n",
    "num_est = map(int, np.linspace(1,100,20))\n",
    "bg_clf_cv_mean = []\n",
    "bg_clf_cv_std = []\n",
    "for n_est in num_est:    \n",
    "    bg_clf = BaggingClassifier(base_estimator=clf1, n_estimators=n_est, max_samples=0.8, max_features=0.8)\n",
    "    scores = cross_val_score(bg_clf, X,Y, cv=3, scoring='accuracy')\n",
    "    bg_clf_cv_mean.append(scores.mean())\n",
    "    bg_clf_cv_std.append(scores.std())"
   ]
  },
  {
   "cell_type": "code",
   "execution_count": 176,
   "metadata": {},
   "outputs": [],
   "source": [
    "clf = DecisionTreeClassifier(criterion='entropy', max_depth=1)\n",
    "\n",
    "num_est = [1, 2, 3, 10]\n",
    "label = ['AdaBoost (n_est=1)', 'AdaBoost (n_est=2)', 'AdaBoost (n_est=3)', 'AdaBoost (n_est=10)']"
   ]
  },
  {
   "cell_type": "code",
   "execution_count": 178,
   "metadata": {},
   "outputs": [],
   "source": [
    "from sklearn.ensemble import AdaBoostClassifier\n",
    "from sklearn.model_selection import cross_val_score, train_test_split\n",
    "\n",
    "from mlxtend.plotting import plot_learning_curves\n",
    "from mlxtend.plotting import plot_decision_regions"
   ]
  },
  {
   "cell_type": "code",
   "execution_count": 183,
   "metadata": {},
   "outputs": [],
   "source": [
    "#plot learning curves\n",
    "X_train, Y_train, X_test, Y_test = train_test_split(X, Y, test_size=0.3, random_state=0)\n",
    "\n",
    "boosting = AdaBoostClassifier(base_estimator=clf, n_estimators=10)\n",
    "      "
   ]
  },
  {
   "cell_type": "markdown",
   "metadata": {},
   "source": [
    "### prediction model  evaluation "
   ]
  },
  {
   "cell_type": "markdown",
   "metadata": {},
   "source": [
    "#### with Vector autoregression   "
   ]
  },
  {
   "cell_type": "code",
   "execution_count": 192,
   "metadata": {},
   "outputs": [
    {
     "name": "stdout",
     "output_type": "stream",
     "text": [
      "houses: 28\n"
     ]
    }
   ],
   "source": [
    "data_per_house=[tuple([tuple(data_train[data_train.House==x][column]) for column in ['Temperature','Daylight','EnergyProduction']]) for x in range(1,501)]\n",
    "data_uniq=[]; datai=[]\n",
    "for j, i in enumerate(data_per_house):\n",
    "    if not i in datai:\n",
    "        datai.append(i)\n",
    "        data_uniq.append(j+1)\n",
    "        \n",
    "data_uniq_len = len(set(data_per_house))\n",
    "print (\"houses: \" + str(data_uniq_len))"
   ]
  },
  {
   "cell_type": "markdown",
   "metadata": {},
   "source": [
    "According to the result of this regression analysis, we've got a MAPE of 8.694%.\n",
    "In this analysis, we did not deal with seasonal trend although they exsist obviously.\n",
    "This is because typical technic for removing the trend is to use 12 month moving average which needs at least 3 years data.\n",
    "We might obtain more better result when seasonal trend can be removed."
   ]
  },
  {
   "cell_type": "markdown",
   "metadata": {},
   "source": [
    "#### Result of Accuracy MAPE"
   ]
  },
  {
   "cell_type": "markdown",
   "metadata": {},
   "source": [
    "The MAPE (Mean Absolute Percent Error) measures the size of the error in percentage terms. It is calculated as the average of the unsigned percentage error,  forecasting model should be the baseline for determining whether your values are good"
   ]
  },
  {
   "cell_type": "code",
   "execution_count": 200,
   "metadata": {},
   "outputs": [],
   "source": [
    "def mape_of_var(house, predfile, mapefile):\n",
    "    sum0 = 0\n",
    "    f_pred = open(predfile, 'w')\n",
    "    f_mape = open(mapefile, 'w')\n",
    "    pred_writer = csv.writer(f_pred)\n",
    "    pred_writer.writerow(['House','EnergyProduction'])\n",
    "    for i in house:\n",
    "        data = data_train[data_train.House==i][['EnergyProduction','Daylight','Temperature']].set_index(rng)\n",
    "        data_diff = data.diff().dropna()\n",
    "        model = var.var_model.VAR(data_diff)\n",
    "        results = model.fit(4, trend='nc')\n",
    "        lag_order = results.k_ar\n",
    "        data_pred = results.forecast(data_diff.values[-lag_order:],1)[0,0]+data.EnergyProduction[-1]\n",
    "        sum0 = sum0 + abs(data_pred-data_test.EnergyProduction[i-1])/data_test.EnergyProduction[i-1]\n",
    "        pred_writer.writerow([i,data_pred])\n",
    "\n",
    "    mape = round(sum0/len(house),3)\n",
    "    f_mape.write(str(mape))\n",
    "    f_pred.close()\n",
    "    f_mape.close()\n",
    "\n",
    "    return mape\n",
    "   "
   ]
  },
  {
   "cell_type": "markdown",
   "metadata": {},
   "source": [
    "VAR model per 28 and 500 house MAPE form predicted data "
   ]
  },
  {
   "cell_type": "code",
   "execution_count": 201,
   "metadata": {},
   "outputs": [
    {
     "name": "stdout",
     "output_type": "stream",
     "text": [
      "VAR model per 28 house MAPE : 0.097\n",
      "VAR model per 500 houses MAPE: 0.097\n"
     ]
    }
   ],
   "source": [
    " \n",
    "print ('VAR model per 28 house MAPE : ' + str(mape_of_var(data_uniq, 'HouseEnergyProduction.csv','mape_uniq.txt')))\n",
    "print ('VAR model per 500 houses MAPE: ' + str(mape_of_var(range(1,501), 'HouseEnergyProductionall.csv','mape_all.txt')))"
   ]
  },
  {
   "cell_type": "markdown",
   "metadata": {},
   "source": [
    "#### comment on result \n",
    "\n",
    "the model made from original data-set is overestimated by 0.1%. as it show MAPE for 28 is 0.097 and for the 500 houses is 0.097. It means  "
   ]
  }
 ],
 "metadata": {
  "kernelspec": {
   "display_name": "Python 3",
   "language": "python",
   "name": "python3"
  },
  "language_info": {
   "codemirror_mode": {
    "name": "ipython",
    "version": 3
   },
   "file_extension": ".py",
   "mimetype": "text/x-python",
   "name": "python",
   "nbconvert_exporter": "python",
   "pygments_lexer": "ipython3",
   "version": "3.7.3"
  },
  "nbTranslate": {
   "displayLangs": [
    "*"
   ],
   "hotkey": "alt-t",
   "langInMainMenu": true,
   "sourceLang": "en",
   "targetLang": "fr",
   "useGoogleTranslate": true
  },
  "toc": {
   "base_numbering": 1,
   "nav_menu": {},
   "number_sections": true,
   "sideBar": true,
   "skip_h1_title": false,
   "title_cell": "Table of Contents",
   "title_sidebar": "Contents",
   "toc_cell": false,
   "toc_position": {},
   "toc_section_display": true,
   "toc_window_display": false
  },
  "varInspector": {
   "cols": {
    "lenName": 16,
    "lenType": 16,
    "lenVar": 40
   },
   "kernels_config": {
    "python": {
     "delete_cmd_postfix": "",
     "delete_cmd_prefix": "del ",
     "library": "var_list.py",
     "varRefreshCmd": "print(var_dic_list())"
    },
    "r": {
     "delete_cmd_postfix": ") ",
     "delete_cmd_prefix": "rm(",
     "library": "var_list.r",
     "varRefreshCmd": "cat(var_dic_list()) "
    }
   },
   "types_to_exclude": [
    "module",
    "function",
    "builtin_function_or_method",
    "instance",
    "_Feature"
   ],
   "window_display": false
  }
 },
 "nbformat": 4,
 "nbformat_minor": 2
}
